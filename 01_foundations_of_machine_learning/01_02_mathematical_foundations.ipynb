{
 "cells": [
  {
   "cell_type": "markdown",
   "id": "1c0c689f",
   "metadata": {},
   "source": [
    "# 2. Mathematical Foundations for Machine Learning\n",
    "\n",
    "This notebook contains the minimum math you'll use in almost every ML model: linear algebra, calculus & optimization, probability and basic statistics."
   ]
  },
  {
   "cell_type": "markdown",
   "id": "2602ed1d",
   "metadata": {},
   "source": [
    "## Linear Algebra essentials\n",
    "\n",
    "- Linear Algebra provides a compact and efficient way to represent data, model parameters, and computations such as transformations, projections, and optimizations.\n",
    "- Almost every ML algorithm is based on operations involving vectors, matrices, or tensors.\n",
    "\n",
    "## Vector and Matrices\n",
    "\n",
    "- A **vector** is an ordered list of numbers that represents a quantity with both _magnitude_ and _direction_."
   ]
  }
 ],
 "metadata": {
  "language_info": {
   "name": "python"
  }
 },
 "nbformat": 4,
 "nbformat_minor": 5
}
