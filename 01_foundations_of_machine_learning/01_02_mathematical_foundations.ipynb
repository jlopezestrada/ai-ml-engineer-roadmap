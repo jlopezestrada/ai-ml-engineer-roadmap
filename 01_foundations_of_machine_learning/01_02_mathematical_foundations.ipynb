{
 "cells": [
  {
   "cell_type": "markdown",
   "id": "1c0c689f",
   "metadata": {},
   "source": [
    "# 2. Mathematical Foundations for Machine Learning\n",
    "\n",
    "This notebook contains the minimum math you'll use in almost every ML model: linear algebra, calculus & optimization, probability and basic statistics."
   ]
  },
  {
   "cell_type": "markdown",
   "id": "2602ed1d",
   "metadata": {},
   "source": [
    "## Linear Algebra essentials\n",
    "\n",
    "- Linear Algebra provides a compact and efficient way to represent data, model parameters, and computations such as transformations, projections, and optimizations.\n",
    "- Almost every ML algorithm is based on operations involving vectors, matrices, or tensors.\n",
    "\n",
    "## Vector and Matrices\n",
    "\n",
    "- A **vector** is an ordered list of numbers that represents a quantity with both _magnitude_ and _direction_. In Machine Learning, a vector usually represents a **data point** or a set of **model parameters**. For example:\n",
    "    - A single house with feature `[size, number_of_rooms, price]` can be written as a vector: \n",
    "    \n",
    "        $\\mathbf{x} = [120, 3, 240000]^T \\in \\mathbb{R}^3$\n",
    "    \n",
    "    - A linear model's weights (e.g., regression coefficients) as another vector: \n",
    "    \n",
    "        $\\mathbf{w} = [w_1, w_2, w_3]^T$\n",
    "\n",
    "---\n",
    "\n",
    "- A **matrix** is a 2D array of numbers (rows and columns) used to represent multiple vectors together or a **linear transformation**. For example, in machine learning:\n",
    "    - A **dataset** with \\( m \\) samples and \\( n \\) features is represented as  \n",
    "        \n",
    "        $\n",
    "        \\mathbf{X} = \n",
    "        \\begin{bmatrix}\n",
    "        x_{11} & x_{12} & \\dots & x_{1n} \\\\\n",
    "        x_{21} & x_{22} & \\dots & x_{2n} \\\\\n",
    "        \\vdots & \\vdots & \\ddots & \\vdots \\\\\n",
    "        x_{m1} & x_{m2} & \\dots & x_{mn}\n",
    "        \\end{bmatrix}\n",
    "        \\in \\mathbb{R}^{m \\times n}\n",
    "        $\n",
    "    \n",
    "        Each **row** represents a data sample, and each **column** represents a feature.\n",
    "\n",
    "    - A **matrix–vector product** is used to compute predictions efficiently: \n",
    "\n",
    "        $\n",
    "        \\mathbf{y} = \\mathbf{X} \\mathbf{w}\n",
    "        $ \n",
    "        \n",
    "        Where $\\mathbf{X}$ contains the input data and $\\mathbf{w}$ contains the model weights.  \n",
    "        This operation is at the **core of linear models and neural networks**, allowing efficient computation of multiple predictions at once."
   ]
  }
 ],
 "metadata": {
  "language_info": {
   "name": "python"
  }
 },
 "nbformat": 4,
 "nbformat_minor": 5
}
