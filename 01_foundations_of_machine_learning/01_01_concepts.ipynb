{
 "cells": [
  {
   "cell_type": "markdown",
   "id": "2c0901b9",
   "metadata": {},
   "source": [
    "# 1. Introduction to Machine Learning\n",
    "\n",
    "Machine Learning is a subset of Artificial Intelligence focused on *building systems that can learn patterns from data* and improve their performance without being explicitly programmed.\n",
    "\n",
    "## Examples\n",
    "\n",
    "- Classify emails as spam or not spam.\n",
    "- Weather prediction.\n",
    "- House price prediction.\n",
    "\n",
    "## Artificial Inteligence (AI) vs Machine Learning (ML) vs Deep Learning (DL)\n",
    "\n",
    "| Concept | Description | Example |\n",
    "|---------|-------------|---------|\n",
    "| **Artificial Intelligence (AI)** | The discipline of creating machines that can perform tasks requiring human-like intelligence (reasoning, perception, planning, language). | Chatbots, expert systems, autonomous vehicles |\n",
    "| **Machine Learning (ML)** | A subset of AI that focuses on algorithms that learn from data rather than explicit programming. | Spam filtering, recommendation systems |\n",
    "| **Deep Learning (DL)** | A subset of ML that uses artificial neural networks with many layers to automatically learn hierarchical representations from large datasets. | Image recognition, speech-to-text, generative models |\n",
    "\n",
    "## Types of Machine Learning\n",
    "\n",
    "Machine Learning is usually divided in four categories, depending of the data and the feedback available:\n",
    "\n",
    "| Type | Description | Example |\n",
    "|------|-------------|---------|\n",
    "| Supervised Learning | The algorithm learns patterns from labeled data (input -> output). The goal is to predict labels (outputs) for new inputs. | Regression, classification |\n",
    "| Unsupervised Learning | The algorithm learns patterns from unlabeled data. | Clustering, dimensionality reduction |\n",
    "| Semi-supervised Learning | Combination of labeled and unlabeled data. Useful when labeling is expensive. | Label propagation |\n",
    "| Reinforcement Learning | The agent learns through intereaction with the environment by receiving rewards or penalties. | Game-playing agents, robots |"
   ]
  }
 ],
 "metadata": {
  "kernelspec": {
   "display_name": ".venv",
   "language": "python",
   "name": "python3"
  },
  "language_info": {
   "name": "python",
   "version": "3.12.3"
  }
 },
 "nbformat": 4,
 "nbformat_minor": 5
}
